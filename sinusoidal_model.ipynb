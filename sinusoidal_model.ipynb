{
 "cells": [
  {
   "cell_type": "code",
   "execution_count": null,
   "metadata": {},
   "outputs": [],
   "source": [
    "from IPython.display import HTML, Video, clear_output\n",
    "import librosa\n",
    "import librosa.display\n",
    "import matplotlib.pyplot as plt\n",
    "from matplotlib.animation import FuncAnimation \n",
    "import numpy as np\n",
    "from scipy import signal\n",
    "# plt.style.use(\"classic\")\n",
    "# plt.style.use(\"bmh\")\n",
    "plt.rcParams['figure.dpi'] = 100\n",
    "plt.rcParams['axes.grid'] = True\n",
    "\n",
    "def showLegend(axs):\n",
    "\ttry:\n",
    "\t\tfor ax in axs.flat: ax.legend()\n",
    "\texcept TypeError:\n",
    "\t\taxs.legend()\n",
    "\texcept AttributeError:\n",
    "\t\taxs.legend()"
   ]
  },
  {
   "cell_type": "code",
   "execution_count": null,
   "metadata": {},
   "outputs": [],
   "source": [
    "def peakDetection(mX, t):\n",
    "\t\"\"\"\n",
    "\tDetect spectral peak locations\n",
    "\tmX: magnitude spectrum, t: threshold\n",
    "\treturns ploc: peak locations\n",
    "\t\"\"\"\n",
    "\n",
    "\tthresh = np.where(np.greater(mX[1:-1], t), mX[1:-1], 0) # locations above threshold\n",
    "\tnext_minor = np.where(mX[1:-1] > mX[2:], mX[1:-1], 0)   # locations higher than the next one\n",
    "\tprev_minor = np.where(mX[1:-1] > mX[:-2], mX[1:-1], 0)  # locations higher than the previous one\n",
    "\tploc = thresh * next_minor * prev_minor                 # locations fulfilling the three criteria\n",
    "\tploc = ploc.nonzero()[0] + 1                            # add 1 to compensate for previous steps\n",
    "\treturn ploc\n"
   ]
  },
  {
   "cell_type": "markdown",
   "metadata": {},
   "source": [
    "# Синусоидальная модель"
   ]
  },
  {
   "cell_type": "code",
   "execution_count": null,
   "metadata": {},
   "outputs": [],
   "source": [
    "window_size = 501\n",
    "n_fft = 512\n",
    "threshold = -20\n",
    "window = np.hamming(window_size)"
   ]
  },
  {
   "cell_type": "code",
   "execution_count": null,
   "metadata": {},
   "outputs": [],
   "source": [
    "wave_data, sr = librosa.load('./sounds/sine-440.wav')\n",
    "wave_chunk = wave_data[0.8 * sr : 0.8 * sr + window_size]\n",
    "\n",
    "librosa.display.waveshow(wave_chunk, sr=sr)\n",
    "plt.show()"
   ]
  },
  {
   "cell_type": "code",
   "execution_count": null,
   "metadata": {},
   "outputs": [],
   "source": []
  }
 ],
 "metadata": {
  "language_info": {
   "name": "python"
  },
  "orig_nbformat": 4
 },
 "nbformat": 4,
 "nbformat_minor": 2
}
