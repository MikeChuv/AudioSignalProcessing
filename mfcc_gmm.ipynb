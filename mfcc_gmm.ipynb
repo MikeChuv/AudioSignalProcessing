{
 "cells": [
  {
   "cell_type": "code",
   "execution_count": 12,
   "metadata": {},
   "outputs": [],
   "source": [
    "import librosa\n",
    "import librosa.feature\n",
    "import librosa.display\n",
    "\n",
    "import matplotlib.pyplot as plt\n",
    "\n",
    "import numpy as np\n",
    "from scipy import signal\n",
    "from sklearn.mixture import GaussianMixture, BayesianGaussianMixture\n",
    "import sklearn\n",
    "\n",
    "import torch\n",
    "import torchaudio\n",
    "\n",
    "import pandas as pd\n",
    "import os\n",
    "import re\n",
    "\n",
    "from FSDDComparisonHelp import FSDD, getMFCC, getTwoMFCCs, showMFCC, compareFeatures\n",
    "\n",
    "# plt.style.use(\"classic\")\n",
    "# plt.style.use(\"bmh\")\n",
    "plt.rcParams['figure.dpi'] = 100\n",
    "plt.rcParams['axes.grid'] = True"
   ]
  },
  {
   "cell_type": "code",
   "execution_count": 118,
   "metadata": {},
   "outputs": [],
   "source": [
    "def getTrainSet(speakerFilesList : list):\n",
    "\ttrainList = []\n",
    "\tfor file in speakerFilesList:\n",
    "\t\ty, sr = librosa.load(file)\n",
    "\t\t# S = librosa.feature.melspectrogram(y=y, sr=sr, n_mels=80, fmax=8000)\n",
    "\t\tS = librosa.feature.mfcc(y=y, sr=sr, dct_type=1)\n",
    "\t\ttrainList.append(S)\n",
    "\t# trim\n",
    "\tminLen = min(el.shape[1] for el in trainList)\n",
    "\ttrainList = [el[:, :minLen] for el in trainList]\n",
    "\t# stack\n",
    "\ttrain = np.stack(trainList)\n",
    "\t# reshape to 2d\n",
    "\tnSamples, nx, ny = train.shape\n",
    "\ttwoDimTrain = train.reshape((nSamples, nx*ny))\n",
    "\tprint(f'nx = {nx}, ny = {ny}')\n",
    "\treturn twoDimTrain, nx, ny\n",
    "\n",
    "\n",
    "def getTestSet(speakerFilesList : list, maxLen : int):\n",
    "\ttrainList = []\n",
    "\tfor file in speakerFilesList:\n",
    "\t\ty, sr = librosa.load(file)\n",
    "\t\t# S = librosa.feature.melspectrogram(y=y, sr=sr, n_mels=80, fmax=8000)\n",
    "\t\tS = librosa.feature.mfcc(y=y, sr=sr, dct_type=1)\n",
    "\t\ttrainList.append(S)\n",
    "\t# trim\n",
    "\tminLen = min(el.shape[1] for el in trainList)\n",
    "\ttrainList = [el[:, :min(maxLen, minLen)] for el in trainList]\n",
    "\t# shapes = {arr.shape for arr in trainList}\n",
    "\t# print(shapes)\n",
    "\t# stack\n",
    "\ttrain = np.stack(trainList)\n",
    "\t# reshape to 2d\n",
    "\tnSamples, nx, ny = train.shape\n",
    "\ttwoDimTrain = train.reshape((nSamples, nx*ny))\n",
    "\tprint(f'nx = {nx}, ny = {ny}')\n",
    "\treturn twoDimTrain\n",
    "\n",
    "\n",
    "def getFeatureList(speakerFilesList : list):\n",
    "\tfeatureList = []\n",
    "\tfor file in speakerFilesList:\n",
    "\t\ty, sr = librosa.load(file)\n",
    "\t\t# S = librosa.feature.melspectrogram(y=y, sr=sr, n_mels=80, fmax=8000)\n",
    "\t\tS = librosa.feature.mfcc(y=y, sr=sr, dct_type=3)\n",
    "\t\tfeatureList.append(S)\n",
    "\treturn featureList\n",
    "\n",
    "def trimFeatures(collection : list):\n",
    "\tnewCollection = []\n",
    "\tminLen = min(min([feature.shape[1] for feature in featureList]) for featureList in collection)\n",
    "\tfor featureList in collection:\n",
    "\t\tnewFeatureList = [feature[:, :minLen] for feature in featureList]\n",
    "\t\tnewCollection.append(newFeatureList)\n",
    "\treturn newCollection\n",
    "\n",
    "def getLinearFeatureList(featureList : list):\n",
    "\tres = np.stack(featureList)\n",
    "\t# reshape to 2d\n",
    "\tnSamples, nx, ny = res.shape\n",
    "\ttwoDimRes = res.reshape((nSamples, nx*ny))\n",
    "\treturn twoDimRes, nx, ny\n",
    "\n",
    "# def trim(collection):\n",
    "# \tminLen = min(el.shape[1] for el in collection)\n",
    "# \tcollection = [el[:, :minLen] for el in collection]"
   ]
  },
  {
   "cell_type": "code",
   "execution_count": 42,
   "metadata": {},
   "outputs": [],
   "source": [
    "fsdd = FSDD('../Datasets/FSDD/recordings')\n",
    "filesA, filesB = fsdd.getFilesForDigit(0, spkA=1, spkB=3)"
   ]
  },
  {
   "cell_type": "code",
   "execution_count": null,
   "metadata": {},
   "outputs": [],
   "source": [
    "# fA0, sr = librosa.load(filesA[0])\n",
    "# S = librosa.feature.mfcc(y=fA0, sr=sr, n_mels=128, n_fft=512, dct_type=2)\n",
    "# librosa.display.specshow(S, sr=sr, x_axis='time', cmap = 'bwr')\n",
    "# plt.show()"
   ]
  },
  {
   "cell_type": "code",
   "execution_count": 80,
   "metadata": {},
   "outputs": [
    {
     "name": "stdout",
     "output_type": "stream",
     "text": [
      "nx = 20, ny = 13\n",
      "nx = 20, ny = 12\n"
     ]
    }
   ],
   "source": [
    "trainA, nx, ny = getTrainSet(filesA)\n",
    "trainB, nx, ny = getTrainSet(filesB)\n",
    "\n",
    "gmA = GaussianMixture(n_components=1, random_state=0).fit(trainA)\n",
    "gmB = GaussianMixture(n_components=1, random_state=0).fit(trainB)"
   ]
  },
  {
   "cell_type": "code",
   "execution_count": null,
   "metadata": {},
   "outputs": [],
   "source": [
    "# если заюзать спектрограмму с вытащить mean:\n",
    "# librosa.display.specshow(gmA.means_.reshape((80, 13)), sr=8000, x_axis='time', cmap = 'bwr')\n",
    "# plt.show()"
   ]
  },
  {
   "cell_type": "code",
   "execution_count": 81,
   "metadata": {},
   "outputs": [
    {
     "data": {
      "image/png": "[encoded data removed]",
      "text/plain": [
       "<Figure size 600x400 with 1 Axes>"
      ]
     },
     "metadata": {
      "needs_background": "light"
     },
     "output_type": "display_data"
    }
   ],
   "source": [
    "plt.scatter(x=trainA[:, 0], y=trainA[:, 1])\n",
    "plt.scatter(x=trainB[:, 0], y=trainB[:, 1])\n",
    "plt.show()"
   ]
  },
  {
   "cell_type": "code",
   "execution_count": 82,
   "metadata": {},
   "outputs": [
    {
     "name": "stdout",
     "output_type": "stream",
     "text": [
      "nx = 20, ny = 12\n"
     ]
    }
   ],
   "source": [
    "fsdd = FSDD('../Datasets/FSDD/recordings')\n",
    "filesA, filesB = fsdd.getFilesForDigit(0, spkA=0, spkB=3)\n",
    "\n",
    "train2, nx, ny = getTrainSet([*filesA, *filesB])\n",
    "\n",
    "gm2 = GaussianMixture(n_components=2, random_state=0).fit(train2)\n",
    "\n",
    "for i in range(len(filesA)):\n",
    "\tfor j in range(len(filesB)):\n",
    "\t\ttest2 = [train2[i], train2[-j-1]]\n",
    "\t\ta, b = gm2.predict(test2)\n",
    "\t\tif a == b:\n",
    "\t\t\tprint(i, j)"
   ]
  },
  {
   "cell_type": "code",
   "execution_count": 147,
   "metadata": {},
   "outputs": [
    {
     "name": "stdout",
     "output_type": "stream",
     "text": [
      "['jackson', 'theo', 'lucas', 'george', 'nicolas', 'yweweler']\n"
     ]
    }
   ],
   "source": [
    "fsdd = FSDD('../Datasets/FSDD/recordings')\n",
    "print(fsdd.speakers)\n",
    "filesA, filesB = fsdd.getFilesForDigit(0, spkA=1, spkB=5)\n",
    "\n",
    "mfccsA = getFeatureList(filesA)\n",
    "mfccsB = getFeatureList(filesB)\n",
    "mfccsA, mfccsB = trimFeatures([mfccsA, mfccsB])\n",
    "# shapesA = {a.shape for a in mfccsA}\n",
    "# shapesB = {b.shape for b in mfccsB}\n",
    "# print(shapesA)\n",
    "# print(shapesB)"
   ]
  },
  {
   "cell_type": "code",
   "execution_count": 148,
   "metadata": {},
   "outputs": [
    {
     "name": "stdout",
     "output_type": "stream",
     "text": [
      "[1 1 1 1 1 1 1 1 1 1 1 1 1 1 1 1 1 1 1 1 1 1 1 1 1 1 0 0 1 0 1 1 1 1 1 1 1\n",
      " 1 1 1 1 1 1 1 1 1 1 0 0 0 0 0 0 0 0 0 0 0 0 0 0 0 0 0 0 0 0 0 0 0 0 0 0 0\n",
      " 0 0 0 1 0 0 0 0 0 0 0 0 1 0 0 0 0 0 0 0]\n"
     ]
    }
   ],
   "source": [
    "# train test split\n",
    "testsize = 47\n",
    "\n",
    "train3, nx, ny = getLinearFeatureList([*mfccsA[:-testsize], *mfccsB[:-testsize]])\n",
    "test3, nx, ny = getLinearFeatureList([*mfccsA[-testsize:], *mfccsB[-testsize:]])\n",
    "\n",
    "gm3 = GaussianMixture(n_components=2, random_state=0).fit(train3)\n",
    "\n",
    "Y = gm3.predict(test3)\n",
    "print(Y)"
   ]
  },
  {
   "cell_type": "code",
   "execution_count": 149,
   "metadata": {},
   "outputs": [],
   "source": [
    "# train test split\n",
    "testsize = 5\n",
    "\n",
    "train4A, nx, ny = getLinearFeatureList(mfccsA[:-testsize])\n",
    "train4B, nx, ny = getLinearFeatureList(mfccsB[:-testsize])\n",
    "\n",
    "test4A, nx, ny = getLinearFeatureList(mfccsA[-testsize:])\n",
    "test4B, nx, ny = getLinearFeatureList(mfccsB[-testsize:])\n",
    "\n",
    "gm4A = GaussianMixture(n_components=1, random_state=0).fit(train4A)\n",
    "gm4B = GaussianMixture(n_components=1, random_state=0).fit(train4B)\n"
   ]
  },
  {
   "cell_type": "code",
   "execution_count": 150,
   "metadata": {},
   "outputs": [
    {
     "name": "stdout",
     "output_type": "stream",
     "text": [
      "Maximum distanse to center of valid:\n",
      "155.60019096108414\n",
      "380.5230979975729\n"
     ]
    }
   ],
   "source": [
    "maxDistSameA = max([np.mean((gm4A.means_ - ta)**2) for ta in test4A])\n",
    "maxDistSameB = max([np.mean((gm4B.means_ - tb)**2) for tb in test4B])\n",
    "print(f'Maximum distanse to center of valid:')\n",
    "print(maxDistSameA)\n",
    "print(maxDistSameB)"
   ]
  },
  {
   "cell_type": "code",
   "execution_count": 151,
   "metadata": {},
   "outputs": [
    {
     "name": "stdout",
     "output_type": "stream",
     "text": [
      "Minimum distanse to center of another:\n",
      "706.7494855421098\n",
      "472.4629428677702\n"
     ]
    }
   ],
   "source": [
    "minDistSameA = min([np.mean((gm4A.means_ - tb)**2) for tb in test4B])\n",
    "minDistSameB = min([np.mean((gm4B.means_ - ta)**2) for ta in test4A])\n",
    "print(f'Minimum distanse to center of another:')\n",
    "print(minDistSameA)\n",
    "print(minDistSameB)"
   ]
  },
  {
   "cell_type": "code",
   "execution_count": 152,
   "metadata": {},
   "outputs": [
    {
     "data": {
      "text/plain": [
       "1116.8912286577265"
      ]
     },
     "execution_count": 152,
     "metadata": {},
     "output_type": "execute_result"
    }
   ],
   "source": [
    "gm4A.lower_bound_"
   ]
  },
  {
   "cell_type": "code",
   "execution_count": 160,
   "metadata": {},
   "outputs": [
    {
     "data": {
      "text/plain": [
       "array([-1.54386000e+09, -1.18956173e+09, -2.74009965e+09, -2.04204723e+09,\n",
       "       -2.81302163e+09])"
      ]
     },
     "execution_count": 160,
     "metadata": {},
     "output_type": "execute_result"
    }
   ],
   "source": [
    "gm4A.score_samples(test4A)"
   ]
  },
  {
   "cell_type": "code",
   "execution_count": 161,
   "metadata": {},
   "outputs": [
    {
     "data": {
      "text/plain": [
       "array([-1.84888070e+10, -1.84787058e+10, -2.22527699e+10, -1.14087392e+10,\n",
       "       -9.37602744e+09])"
      ]
     },
     "execution_count": 161,
     "metadata": {},
     "output_type": "execute_result"
    }
   ],
   "source": [
    "gm4A.score_samples(test4B)"
   ]
  }
 ],
 "metadata": {
  "kernelspec": {
   "display_name": "Python 3.9.7 64-bit",
   "language": "python",
   "name": "python3"
  },
  "language_info": {
   "codemirror_mode": {
    "name": "ipython",
    "version": 3
   },
   "file_extension": ".py",
   "mimetype": "text/x-python",
   "name": "python",
   "nbconvert_exporter": "python",
   "pygments_lexer": "ipython3",
   "version": "3.9.7"
  },
  "orig_nbformat": 4,
  "vscode": {
   "interpreter": {
    "hash": "f2b470cb7f166cc75ffb64c5b7d46eec9af7211564953f54e03e6a7320fb162c"
   }
  }
 },
 "nbformat": 4,
 "nbformat_minor": 2
}
