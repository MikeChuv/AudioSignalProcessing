{
 "cells": [
  {
   "cell_type": "code",
   "execution_count": 1,
   "metadata": {},
   "outputs": [],
   "source": [
    "import librosa\n",
    "import librosa.feature\n",
    "import librosa.display\n",
    "\n",
    "import matplotlib.pyplot as plt\n",
    "\n",
    "import numpy as np\n",
    "from scipy import signal\n",
    "from sklearn.mixture import GaussianMixture, BayesianGaussianMixture\n",
    "import sklearn.metrics\n",
    "import sklearn\n",
    "\n",
    "from moviepy.editor import VideoClip\n",
    "from moviepy.video.io.bindings import mplfig_to_npimage\n",
    "\n",
    "import torch\n",
    "import torchaudio\n",
    "\n",
    "import seaborn as sns\n",
    "\n",
    "import pandas as pd\n",
    "import os\n",
    "import re\n",
    "\n",
    "from FSDDComparisonHelp import FSDD, getMFCC, getTwoMFCCs, showMFCC, compareFeatures\n",
    "\n",
    "# plt.style.use(\"classic\")\n",
    "# plt.style.use(\"bmh\")\n",
    "plt.rcParams['figure.dpi'] = 100\n",
    "plt.rcParams['axes.grid'] = True"
   ]
  },
  {
   "cell_type": "code",
   "execution_count": 2,
   "metadata": {},
   "outputs": [],
   "source": [
    "def getTrainSet(speakerFilesList : list):\n",
    "\ttrainList = []\n",
    "\tfor file in speakerFilesList:\n",
    "\t\ty, sr = librosa.load(file)\n",
    "\t\t# S = librosa.feature.melspectrogram(y=y, sr=sr, n_mels=80, fmax=8000)\n",
    "\t\tS = librosa.feature.mfcc(y=y, sr=sr, dct_type=1)\n",
    "\t\ttrainList.append(S)\n",
    "\t# trim\n",
    "\tminLen = min(el.shape[1] for el in trainList)\n",
    "\ttrainList = [el[:, :minLen] for el in trainList]\n",
    "\t# stack\n",
    "\ttrain = np.stack(trainList)\n",
    "\t# reshape to 2d\n",
    "\tnSamples, nx, ny = train.shape\n",
    "\ttwoDimTrain = train.reshape((nSamples, nx*ny))\n",
    "\tprint(f'nx = {nx}, ny = {ny}')\n",
    "\treturn twoDimTrain, nx, ny\n",
    "\n",
    "\n",
    "def getTestSet(speakerFilesList : list, maxLen : int):\n",
    "\ttrainList = []\n",
    "\tfor file in speakerFilesList:\n",
    "\t\ty, sr = librosa.load(file)\n",
    "\t\t# S = librosa.feature.melspectrogram(y=y, sr=sr, n_mels=80, fmax=8000)\n",
    "\t\tS = librosa.feature.mfcc(y=y, sr=sr, dct_type=1)\n",
    "\t\ttrainList.append(S)\n",
    "\t# trim\n",
    "\tminLen = min(el.shape[1] for el in trainList)\n",
    "\ttrainList = [el[:, :min(maxLen, minLen)] for el in trainList]\n",
    "\t# shapes = {arr.shape for arr in trainList}\n",
    "\t# print(shapes)\n",
    "\t# stack\n",
    "\ttrain = np.stack(trainList)\n",
    "\t# reshape to 2d\n",
    "\tnSamples, nx, ny = train.shape\n",
    "\ttwoDimTrain = train.reshape((nSamples, nx*ny))\n",
    "\tprint(f'nx = {nx}, ny = {ny}')\n",
    "\treturn twoDimTrain\n",
    "\n",
    "\n",
    "def getFeatureList(speakerFilesList : list):\n",
    "\tfeatureList = []\n",
    "\tfor file in speakerFilesList:\n",
    "\t\ty, sr = librosa.load(file)\n",
    "\t\t# S = librosa.feature.melspectrogram(y=y, sr=sr, n_mels=80, fmax=8000)\n",
    "\t\tS = librosa.feature.mfcc(y=y, sr=sr, dct_type=3)\n",
    "\t\tfeatureList.append(S)\n",
    "\treturn featureList\n",
    "\n",
    "def trimFeatures(collection : list):\n",
    "\tnewCollection = []\n",
    "\tminLen = min(min([feature.shape[1] for feature in featureList]) for featureList in collection)\n",
    "\tfor featureList in collection:\n",
    "\t\tnewFeatureList = [feature[:, :minLen] for feature in featureList]\n",
    "\t\tnewCollection.append(newFeatureList)\n",
    "\treturn newCollection\n",
    "\n",
    "def getLinearFeatureList(featureList : list):\n",
    "\tres = np.stack(featureList)\n",
    "\t# reshape to 2d\n",
    "\tnSamples, nx, ny = res.shape\n",
    "\ttwoDimRes = res.reshape((nSamples, nx*ny))\n",
    "\treturn twoDimRes, nx, ny\n",
    "\n",
    "# def trim(collection):\n",
    "# \tminLen = min(el.shape[1] for el in collection)\n",
    "# \tcollection = [el[:, :minLen] for el in collection]"
   ]
  },
  {
   "cell_type": "code",
   "execution_count": 48,
   "metadata": {},
   "outputs": [
    {
     "name": "stdout",
     "output_type": "stream",
     "text": [
      "nicolas\n",
      "lucas\n"
     ]
    }
   ],
   "source": [
    "spkA = 4\n",
    "spkB = 5\n",
    "fsdd = FSDD('../Datasets/FSDD/recordings')\n",
    "filesA, filesB = fsdd.getFilesForDigit(0, spkA=spkA, spkB=spkB)\n",
    "print(fsdd.speakers[spkA])\n",
    "print(fsdd.speakers[spkB])\n",
    "# nicolas -- bad"
   ]
  },
  {
   "cell_type": "code",
   "execution_count": 29,
   "metadata": {},
   "outputs": [],
   "source": [
    "# fA0, sr = librosa.load(filesA[0])\n",
    "# S = librosa.feature.mfcc(y=fA0, sr=sr, n_mels=128, n_fft=512, dct_type=2)\n",
    "# librosa.display.specshow(S, sr=sr, x_axis='time', cmap = 'bwr')\n",
    "# plt.show()"
   ]
  },
  {
   "cell_type": "code",
   "execution_count": 49,
   "metadata": {},
   "outputs": [
    {
     "name": "stdout",
     "output_type": "stream",
     "text": [
      "nx = 20, ny = 15\n",
      "nx = 20, ny = 21\n"
     ]
    }
   ],
   "source": [
    "trainA, nx, ny = getTrainSet(filesA)\n",
    "trainB, nx, ny = getTrainSet(filesB)\n",
    "\n",
    "gmA = GaussianMixture(n_components=1, random_state=0).fit(trainA)\n",
    "gmB = GaussianMixture(n_components=1, random_state=0).fit(trainB)"
   ]
  },
  {
   "cell_type": "code",
   "execution_count": 32,
   "metadata": {},
   "outputs": [],
   "source": [
    "# если заюзать спектрограмму с вытащить mean:\n",
    "# librosa.display.specshow(gmA.means_.reshape((80, 13)), sr=8000, x_axis='time', cmap = 'bwr')\n",
    "# plt.show()"
   ]
  },
  {
   "cell_type": "code",
   "execution_count": 66,
   "metadata": {},
   "outputs": [],
   "source": [
    "# sns.distplot(trainA[:, 0], hist = False, kde = True, kde_kws = {'shade': True, 'linewidth': 3})\n",
    "# sns.distplot(trainB[:, 0], hist = False, kde = True, kde_kws = {'shade': True, 'linewidth': 3})\n",
    "# plt.show()"
   ]
  },
  {
   "cell_type": "code",
   "execution_count": 51,
   "metadata": {},
   "outputs": [
    {
     "name": "stdout",
     "output_type": "stream",
     "text": [
      "Duration: 19\n",
      "Moviepy - Building video final3.mp4.\n",
      "Moviepy - Writing video final3.mp4\n",
      "\n"
     ]
    },
    {
     "name": "stderr",
     "output_type": "stream",
     "text": [
      "                                                              \r"
     ]
    },
    {
     "name": "stdout",
     "output_type": "stream",
     "text": [
      "Moviepy - Done !\n",
      "Moviepy - video ready final3.mp4\n"
     ]
    },
    {
     "data": {
      "image/png": "[encoded data removed]",
      "text/plain": [
       "<Figure size 1500x1500 with 1 Axes>"
      ]
     },
     "metadata": {
      "needs_background": "light"
     },
     "output_type": "display_data"
    }
   ],
   "source": [
    "fps = 15\n",
    "duration = min( int((trainA.shape[1] - 2) / fps), int((trainB.shape[1] - 2) / fps))\n",
    "print(f'Duration: {duration}')\n",
    "\n",
    "# figsize - 1 == 72px -> 20 - 1440p | 15 - 1080p\n",
    "fig = plt.figure(figsize=(15, 15))\n",
    "ax = fig.add_subplot()\n",
    "plt.rcParams['axes.grid'] = False\n",
    "\n",
    "idx = 0\n",
    "def make_frame(t):\n",
    "\tglobal idx\n",
    "\tax.clear()\n",
    "\tsns.distplot(trainA[:, idx], hist = False, kde = True, kde_kws = {'shade': True, 'linewidth': 3}, ax=ax)\n",
    "\tsns.distplot(trainB[:, idx], hist = False, kde = True, kde_kws = {'shade': True, 'linewidth': 3}, ax=ax)\t\n",
    "\tnpimg = mplfig_to_npimage(fig)\n",
    "\tidx += 1\n",
    "\treturn npimg\n",
    "\n",
    "animation = VideoClip(make_frame, duration=duration)\n",
    "animation.write_videofile(f'final{3}.mp4', fps=fps, codec='mpeg4', audio=False, bitrate='6M', threads = 12, preset='ultrafast')\n",
    "plt.rcParams['axes.grid'] = True"
   ]
  },
  {
   "cell_type": "code",
   "execution_count": 19,
   "metadata": {},
   "outputs": [
    {
     "data": {
      "text/plain": [
       "300"
      ]
     },
     "execution_count": 19,
     "metadata": {},
     "output_type": "execute_result"
    }
   ],
   "source": [
    "trainA.shape[1]"
   ]
  },
  {
   "cell_type": "code",
   "execution_count": 20,
   "metadata": {},
   "outputs": [
    {
     "data": {
      "text/plain": [
       "240"
      ]
     },
     "execution_count": 20,
     "metadata": {},
     "output_type": "execute_result"
    }
   ],
   "source": [
    "trainB.shape[1]"
   ]
  },
  {
   "cell_type": "code",
   "execution_count": null,
   "metadata": {},
   "outputs": [],
   "source": [
    "fig = plt.figure(figsize=(30, 30))\n",
    "ax = fig.add_subplot()\n",
    "sns.heatmap(np.squeeze(gmA.covariances_, axis=0), square=True, ax=ax)\n",
    "plt.show()"
   ]
  },
  {
   "cell_type": "code",
   "execution_count": 61,
   "metadata": {},
   "outputs": [
    {
     "name": "stdout",
     "output_type": "stream",
     "text": [
      "nx = 20, ny = 13\n",
      "0 19\n",
      "0 20\n",
      "1 19\n",
      "1 20\n",
      "2 19\n",
      "2 20\n",
      "3 19\n",
      "3 20\n",
      "4 19\n",
      "4 20\n",
      "5 19\n",
      "5 20\n",
      "6 19\n",
      "6 20\n",
      "7 19\n",
      "7 20\n",
      "8 19\n",
      "8 20\n",
      "9 19\n",
      "9 20\n",
      "10 19\n",
      "10 20\n",
      "11 19\n",
      "11 20\n",
      "12 19\n",
      "12 20\n",
      "13 19\n",
      "13 20\n",
      "14 19\n",
      "14 20\n",
      "15 19\n",
      "15 20\n",
      "16 19\n",
      "16 20\n",
      "17 19\n",
      "17 20\n",
      "18 19\n",
      "18 20\n",
      "19 19\n",
      "19 20\n",
      "20 19\n",
      "20 20\n",
      "21 19\n",
      "21 20\n",
      "22 19\n",
      "22 20\n",
      "23 19\n",
      "23 20\n",
      "24 19\n",
      "24 20\n",
      "25 19\n",
      "25 20\n",
      "26 19\n",
      "26 20\n",
      "27 19\n",
      "27 20\n",
      "28 19\n",
      "28 20\n",
      "29 19\n",
      "29 20\n",
      "30 19\n",
      "30 20\n",
      "31 19\n",
      "31 20\n",
      "32 19\n",
      "32 20\n",
      "33 19\n",
      "33 20\n",
      "34 19\n",
      "34 20\n",
      "35 19\n",
      "35 20\n",
      "36 19\n",
      "36 20\n",
      "37 19\n",
      "37 20\n",
      "38 19\n",
      "38 20\n",
      "39 19\n",
      "39 20\n",
      "40 19\n",
      "40 20\n",
      "41 19\n",
      "41 20\n",
      "42 19\n",
      "42 20\n",
      "43 19\n",
      "43 20\n",
      "44 19\n",
      "44 20\n",
      "45 19\n",
      "45 20\n",
      "46 19\n",
      "46 20\n",
      "47 19\n",
      "47 20\n",
      "48 19\n",
      "48 20\n",
      "49 19\n",
      "49 20\n"
     ]
    }
   ],
   "source": [
    "fsdd = FSDD('../Datasets/FSDD/recordings')\n",
    "filesA, filesB = fsdd.getFilesForDigit(0, spkA=0, spkB=3)\n",
    "\n",
    "train2, nx, ny = getTrainSet([*filesA, *filesB])\n",
    "\n",
    "gm2 = GaussianMixture(n_components=2, random_state=0).fit(train2)\n",
    "\n",
    "for i in range(len(filesA)):\n",
    "\tfor j in range(len(filesB)):\n",
    "\t\ttest2 = [train2[i], train2[-j-1]]\n",
    "\t\ta, b = gm2.predict(test2)\n",
    "\t\tif a == b:\n",
    "\t\t\tprint(i, j)"
   ]
  },
  {
   "cell_type": "code",
   "execution_count": 63,
   "metadata": {},
   "outputs": [
    {
     "data": {
      "text/plain": [
       "(2, 260, 260)"
      ]
     },
     "execution_count": 63,
     "metadata": {},
     "output_type": "execute_result"
    }
   ],
   "source": [
    "gm2.covariances_.shape"
   ]
  },
  {
   "cell_type": "code",
   "execution_count": null,
   "metadata": {},
   "outputs": [],
   "source": [
    "# fig = plt.figure(figsize=(30, 30))\n",
    "# ax = fig.add_subplot()\n",
    "# sns.heatmap(gm2.covariances_[0], square=True, ax=ax)\n",
    "# plt.show()"
   ]
  },
  {
   "cell_type": "code",
   "execution_count": 35,
   "metadata": {},
   "outputs": [
    {
     "name": "stdout",
     "output_type": "stream",
     "text": [
      "['jackson', 'george', 'yweweler', 'theo', 'nicolas', 'lucas']\n",
      "george\n",
      "nicolas\n"
     ]
    }
   ],
   "source": [
    "fsdd = FSDD('../Datasets/FSDD/recordings')\n",
    "print(fsdd.speakers)\n",
    "# spkA = 1\n",
    "# spkB = 3\n",
    "filesA, filesB = fsdd.getFilesForDigit(0, spkA=spkA, spkB=spkB)\n",
    "print(fsdd.speakers[spkA])\n",
    "print(fsdd.speakers[spkB])\n",
    "\n",
    "mfccsA = getFeatureList(filesA)\n",
    "mfccsB = getFeatureList(filesB)\n",
    "mfccsA, mfccsB = trimFeatures([mfccsA, mfccsB])\n",
    "# shapesA = {a.shape for a in mfccsA}\n",
    "# shapesB = {b.shape for b in mfccsB}\n",
    "# print(shapesA)\n",
    "# print(shapesB)"
   ]
  },
  {
   "cell_type": "code",
   "execution_count": 36,
   "metadata": {},
   "outputs": [
    {
     "name": "stdout",
     "output_type": "stream",
     "text": [
      "[1 1 1 1 1 1 1 0 1 1 1 1 1 1 1 1 1 1 1 1 1 1 1 1 1 1 1 1 1 1 1 1 1 1 1 1 1\n",
      " 1 1 1 1 1 1 1 1 1 1 0 0 0 0 0 0 0 0 0 0 0 0 0 0 0 0 0 0 0 0 0 0 0 0 0 0 0\n",
      " 0 0 0 0 0 0 0 0 0 0 0 0 0 0 0 0 0 0 0 0]\n"
     ]
    }
   ],
   "source": [
    "# train test split\n",
    "testsize = 47\n",
    "\n",
    "train3, nx, ny = getLinearFeatureList([*mfccsA[:-testsize], *mfccsB[:-testsize]])\n",
    "test3, nx, ny = getLinearFeatureList([*mfccsA[-testsize:], *mfccsB[-testsize:]])\n",
    "\n",
    "gm3 = GaussianMixture(n_components=2, random_state=0).fit(train3)\n",
    "\n",
    "Y = gm3.predict(test3)\n",
    "print(Y)"
   ]
  },
  {
   "cell_type": "code",
   "execution_count": 37,
   "metadata": {},
   "outputs": [
    {
     "name": "stdout",
     "output_type": "stream",
     "text": [
      "20 12\n"
     ]
    }
   ],
   "source": [
    "# train test split\n",
    "testsize = 5\n",
    "\n",
    "train4A, nx, ny = getLinearFeatureList(mfccsA[:-testsize])\n",
    "train4B, nx, ny = getLinearFeatureList(mfccsB[:-testsize])\n",
    "\n",
    "test4A, nx, ny = getLinearFeatureList(mfccsA[-testsize:])\n",
    "test4B, nx, ny = getLinearFeatureList(mfccsB[-testsize:])\n",
    "print(nx, ny)\n",
    "\n",
    "gm4A = GaussianMixture(n_components=1, random_state=0).fit(train4A)\n",
    "gm4B = GaussianMixture(n_components=1, random_state=0).fit(train4B)\n"
   ]
  },
  {
   "cell_type": "code",
   "execution_count": 38,
   "metadata": {},
   "outputs": [],
   "source": [
    "sample4a = gm4A.sample(1)[0].reshape((nx, ny))\n",
    "sample4b = gm4B.sample(1)[0].reshape((nx, ny))"
   ]
  },
  {
   "cell_type": "code",
   "execution_count": 39,
   "metadata": {},
   "outputs": [
    {
     "data": {
      "image/png": "[encoded data removed]",
      "text/plain": [
       "<Figure size 1500x500 with 4 Axes>"
      ]
     },
     "metadata": {
      "needs_background": "light"
     },
     "output_type": "display_data"
    }
   ],
   "source": [
    "fig, ax = compareFeatures(sample4a, 8000, sample4b, 8000, fsdd.speakers[spkA], fsdd.speakers[spkB])\n",
    "plt.show()"
   ]
  },
  {
   "cell_type": "code",
   "execution_count": 40,
   "metadata": {},
   "outputs": [
    {
     "name": "stdout",
     "output_type": "stream",
     "text": [
      "Maximum distanse to center of valid:\n",
      "111.51540561452933\n",
      "92.82042286008391\n",
      "Minimum distanse to center of another:\n",
      "482.17686680784635\n",
      "576.9207011601779\n"
     ]
    }
   ],
   "source": [
    "maxDistSameA = max([np.mean((gm4A.means_ - ta)**2) for ta in test4A])\n",
    "maxDistSameB = max([np.mean((gm4B.means_ - tb)**2) for tb in test4B])\n",
    "print(f'Maximum distanse to center of valid:')\n",
    "print(maxDistSameA)\n",
    "print(maxDistSameB)\n",
    "minDistDifA = min([np.mean((gm4A.means_ - tb)**2) for tb in test4B])\n",
    "minDistDifB = min([np.mean((gm4B.means_ - ta)**2) for ta in test4A])\n",
    "print(f'Minimum distanse to center of another:')\n",
    "print(minDistDifA)\n",
    "print(minDistDifB)"
   ]
  },
  {
   "cell_type": "code",
   "execution_count": 41,
   "metadata": {},
   "outputs": [
    {
     "name": "stdout",
     "output_type": "stream",
     "text": [
      "Maximum cos dist to center of valid:\n",
      "[[0.00662717]]\n",
      "[[0.0042129]]\n",
      "Minimum cos dist to center of another:\n",
      "[[0.02492578]]\n",
      "[[0.03327519]]\n"
     ]
    }
   ],
   "source": [
    "cosDist = sklearn.metrics.pairwise.cosine_distances\n",
    "maxDistSameA = max([cosDist(gm4A.means_.reshape(1, -1), ta.reshape(1, -1)) for ta in test4A])\n",
    "maxDistSameB = max([cosDist(gm4B.means_.reshape(1, -1), tb.reshape(1, -1)) for tb in test4B])\n",
    "print(f'Maximum cos dist to center of valid:')\n",
    "print(maxDistSameA)\n",
    "print(maxDistSameB)\n",
    "minDistDifA = min([cosDist(gm4A.means_.reshape(1, -1), tb.reshape(1, -1)) for tb in test4B])\n",
    "minDistDifB = min([cosDist(gm4B.means_.reshape(1, -1), ta.reshape(1, -1)) for ta in test4A])\n",
    "print(f'Minimum cos dist to center of another:')\n",
    "print(minDistDifA)\n",
    "print(minDistDifB)"
   ]
  },
  {
   "cell_type": "code",
   "execution_count": 42,
   "metadata": {},
   "outputs": [
    {
     "name": "stdout",
     "output_type": "stream",
     "text": [
      "Maximum dist to center of valid:\n",
      "[[163.59614099]]\n",
      "[[149.25448565]]\n",
      "Minimum dist to center of another:\n",
      "[[340.18002298]]\n",
      "[[372.10343761]]\n"
     ]
    }
   ],
   "source": [
    "# dist = sklearn.metrics.pairwise.manhattan_distances\n",
    "dist = sklearn.metrics.pairwise.euclidean_distances\n",
    "maxDistSameA = max([dist(gm4A.means_.reshape(1, -1), ta.reshape(1, -1)) for ta in test4A])\n",
    "maxDistSameB = max([dist(gm4B.means_.reshape(1, -1), tb.reshape(1, -1)) for tb in test4B])\n",
    "print(f'Maximum dist to center of valid:')\n",
    "print(maxDistSameA)\n",
    "print(maxDistSameB)\n",
    "minDistDifA = min([dist(gm4A.means_.reshape(1, -1), tb.reshape(1, -1)) for tb in test4B])\n",
    "minDistDifB = min([dist(gm4B.means_.reshape(1, -1), ta.reshape(1, -1)) for ta in test4A])\n",
    "print(f'Minimum dist to center of another:')\n",
    "print(minDistDifA)\n",
    "print(minDistDifB)"
   ]
  },
  {
   "cell_type": "code",
   "execution_count": 56,
   "metadata": {},
   "outputs": [
    {
     "name": "stdout",
     "output_type": "stream",
     "text": [
      "Maximum cos dist to center of valid:\n",
      "[0.0016448838384519604, 0.0010362174344308306, 0.0016009652352636516, 0.0023122358419336297, 0.004212900729343327]\n",
      "[0.004255939838346934, 0.00662717304942928, 0.0037407003183806964, 0.0063756092709850165, 0.005315440915569236]\n",
      "Minimum cos dist to center of another:\n",
      "[0.03533937016052424, 0.03619387783986794, 0.033275186655305045, 0.03923102083968444, 0.03460776254390974]\n",
      "[0.028893752586499732, 0.027420037550162313, 0.027270047049023916, 0.02691663764806551, 0.024925782437525412]\n"
     ]
    }
   ],
   "source": [
    "cosDist = sklearn.metrics.pairwise.cosine_distances\n",
    "maxDistSameA = [cosDist(gm4A.means_.reshape(1, -1), ta.reshape(1, -1)).reshape(1)[0] for ta in test4A]\n",
    "maxDistSameB = [cosDist(gm4B.means_.reshape(1, -1), tb.reshape(1, -1)).reshape(1)[0] for tb in test4B]\n",
    "print(f'Maximum cos dist to center of valid:')\n",
    "print(maxDistSameA)\n",
    "print(maxDistSameB)\n",
    "minDistDifA = [cosDist(gm4A.means_.reshape(1, -1), tb.reshape(1, -1)).reshape(1)[0] for tb in test4B]\n",
    "minDistDifB = [cosDist(gm4B.means_.reshape(1, -1), ta.reshape(1, -1)).reshape(1)[0] for ta in test4A]\n",
    "print(f'Minimum cos dist to center of another:')\n",
    "print(minDistDifA)\n",
    "print(minDistDifB)"
   ]
  },
  {
   "cell_type": "code",
   "execution_count": 57,
   "metadata": {},
   "outputs": [
    {
     "data": {
      "text/plain": [
       "1007.9309487252091"
      ]
     },
     "execution_count": 57,
     "metadata": {},
     "output_type": "execute_result"
    }
   ],
   "source": [
    "gm4A.lower_bound_"
   ]
  },
  {
   "cell_type": "code",
   "execution_count": 58,
   "metadata": {},
   "outputs": [
    {
     "data": {
      "text/plain": [
       "array([-9.77489597e+08, -6.22413467e+08, -9.77647703e+08, -1.36463387e+09,\n",
       "       -1.06029442e+09])"
      ]
     },
     "execution_count": 58,
     "metadata": {},
     "output_type": "execute_result"
    }
   ],
   "source": [
    "gm4A.score_samples(test4A)"
   ]
  },
  {
   "cell_type": "code",
   "execution_count": 59,
   "metadata": {},
   "outputs": [
    {
     "data": {
      "text/plain": [
       "array([-3.34768731e+10, -3.56301715e+10, -3.34658385e+10, -3.43297538e+10,\n",
       "       -3.34956103e+10])"
      ]
     },
     "execution_count": 59,
     "metadata": {},
     "output_type": "execute_result"
    }
   ],
   "source": [
    "gm4A.score_samples(test4B)"
   ]
  }
 ],
 "metadata": {
  "kernelspec": {
   "display_name": "Python 3.9.7 64-bit",
   "language": "python",
   "name": "python3"
  },
  "language_info": {
   "codemirror_mode": {
    "name": "ipython",
    "version": 3
   },
   "file_extension": ".py",
   "mimetype": "text/x-python",
   "name": "python",
   "nbconvert_exporter": "python",
   "pygments_lexer": "ipython3",
   "version": "3.9.7"
  },
  "orig_nbformat": 4,
  "vscode": {
   "interpreter": {
    "hash": "f2b470cb7f166cc75ffb64c5b7d46eec9af7211564953f54e03e6a7320fb162c"
   }
  }
 },
 "nbformat": 4,
 "nbformat_minor": 2
}
