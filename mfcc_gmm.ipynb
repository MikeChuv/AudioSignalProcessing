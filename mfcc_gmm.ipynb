{
 "cells": [
  {
   "cell_type": "code",
   "execution_count": 67,
   "metadata": {},
   "outputs": [],
   "source": [
    "import librosa\n",
    "import librosa.feature\n",
    "import librosa.display\n",
    "\n",
    "import matplotlib.pyplot as plt\n",
    "\n",
    "import numpy as np\n",
    "from scipy import signal\n",
    "from sklearn.mixture import GaussianMixture, BayesianGaussianMixture\n",
    "import sklearn.metrics\n",
    "import sklearn\n",
    "\n",
    "from moviepy.editor import VideoClip\n",
    "from moviepy.video.io.bindings import mplfig_to_npimage\n",
    "\n",
    "import torch\n",
    "import torchaudio\n",
    "\n",
    "import seaborn as sns\n",
    "\n",
    "import pandas as pd\n",
    "import os\n",
    "import re\n",
    "\n",
    "from FSDDComparisonHelp import FSDD, getMFCC, getTwoMFCCs, showMFCC, compareFeatures\n",
    "\n",
    "# plt.style.use(\"classic\")\n",
    "# plt.style.use(\"bmh\")\n",
    "plt.rcParams['figure.dpi'] = 100\n",
    "plt.rcParams['axes.grid'] = True"
   ]
  },
  {
   "cell_type": "code",
   "execution_count": 68,
   "metadata": {},
   "outputs": [],
   "source": [
    "def getTrainSet(speakerFilesList : list):\n",
    "\ttrainList = []\n",
    "\tfor file in speakerFilesList:\n",
    "\t\ty, sr = librosa.load(file)\n",
    "\t\t# S = librosa.feature.melspectrogram(y=y, sr=sr, n_mels=80, fmax=8000)\n",
    "\t\tS = librosa.feature.mfcc(y=y, sr=sr, dct_type=1)\n",
    "\t\ttrainList.append(S)\n",
    "\t# trim\n",
    "\tminLen = min(el.shape[1] for el in trainList)\n",
    "\ttrainList = [el[:, :minLen] for el in trainList]\n",
    "\t# stack\n",
    "\ttrain = np.stack(trainList)\n",
    "\t# reshape to 2d\n",
    "\tnSamples, nx, ny = train.shape\n",
    "\ttwoDimTrain = train.reshape((nSamples, nx*ny))\n",
    "\tprint(f'nx = {nx}, ny = {ny}')\n",
    "\treturn twoDimTrain, nx, ny\n",
    "\n",
    "\n",
    "def getTestSet(speakerFilesList : list, maxLen : int):\n",
    "\ttrainList = []\n",
    "\tfor file in speakerFilesList:\n",
    "\t\ty, sr = librosa.load(file)\n",
    "\t\t# S = librosa.feature.melspectrogram(y=y, sr=sr, n_mels=80, fmax=8000)\n",
    "\t\tS = librosa.feature.mfcc(y=y, sr=sr, dct_type=1)\n",
    "\t\ttrainList.append(S)\n",
    "\t# trim\n",
    "\tminLen = min(el.shape[1] for el in trainList)\n",
    "\ttrainList = [el[:, :min(maxLen, minLen)] for el in trainList]\n",
    "\t# shapes = {arr.shape for arr in trainList}\n",
    "\t# print(shapes)\n",
    "\t# stack\n",
    "\ttrain = np.stack(trainList)\n",
    "\t# reshape to 2d\n",
    "\tnSamples, nx, ny = train.shape\n",
    "\ttwoDimTrain = train.reshape((nSamples, nx*ny))\n",
    "\tprint(f'nx = {nx}, ny = {ny}')\n",
    "\treturn twoDimTrain\n",
    "\n",
    "\n",
    "def getFeatureList(speakerFilesList : list):\n",
    "\tfeatureList = []\n",
    "\tfor file in speakerFilesList:\n",
    "\t\ty, sr = librosa.load(file)\n",
    "\t\t# S = librosa.feature.melspectrogram(y=y, sr=sr, n_mels=80, fmax=8000)\n",
    "\t\tS = librosa.feature.mfcc(y=y, sr=sr, dct_type=3)\n",
    "\t\tfeatureList.append(S)\n",
    "\treturn featureList\n",
    "\n",
    "def trimFeatures(collection : list):\n",
    "\tnewCollection = []\n",
    "\tminLen = min(min([feature.shape[1] for feature in featureList]) for featureList in collection)\n",
    "\tfor featureList in collection:\n",
    "\t\tnewFeatureList = [feature[:, :minLen] for feature in featureList]\n",
    "\t\tnewCollection.append(newFeatureList)\n",
    "\treturn newCollection\n",
    "\n",
    "def getLinearFeatureList(featureList : list):\n",
    "\tres = np.stack(featureList)\n",
    "\t# reshape to 2d\n",
    "\tnSamples, nx, ny = res.shape\n",
    "\ttwoDimRes = res.reshape((nSamples, nx*ny))\n",
    "\treturn twoDimRes, nx, ny\n",
    "\n",
    "# def trim(collection):\n",
    "# \tminLen = min(el.shape[1] for el in collection)\n",
    "# \tcollection = [el[:, :minLen] for el in collection]"
   ]
  },
  {
   "cell_type": "code",
   "execution_count": 95,
   "metadata": {},
   "outputs": [
    {
     "name": "stdout",
     "output_type": "stream",
     "text": [
      "theo\n",
      "lucas\n"
     ]
    }
   ],
   "source": [
    "spkA = 3\n",
    "spkB = 5\n",
    "fsdd = FSDD('../Datasets/FSDD/recordings')\n",
    "filesA, filesB = fsdd.getFilesForDigit(0, spkA=spkA, spkB=spkB)\n",
    "print(fsdd.speakers[spkA])\n",
    "print(fsdd.speakers[spkB])\n",
    "# nicolas -- bad"
   ]
  },
  {
   "cell_type": "code",
   "execution_count": 6,
   "metadata": {},
   "outputs": [],
   "source": [
    "# fA0, sr = librosa.load(filesA[0])\n",
    "# S = librosa.feature.mfcc(y=fA0, sr=sr, n_mels=128, n_fft=512, dct_type=2)\n",
    "# librosa.display.specshow(S, sr=sr, x_axis='time', cmap = 'bwr')\n",
    "# plt.show()"
   ]
  },
  {
   "cell_type": "code",
   "execution_count": 96,
   "metadata": {},
   "outputs": [
    {
     "name": "stdout",
     "output_type": "stream",
     "text": [
      "nx = 20, ny = 13\n",
      "nx = 20, ny = 21\n"
     ]
    }
   ],
   "source": [
    "trainA, nx, ny = getTrainSet(filesA)\n",
    "trainB, nx, ny = getTrainSet(filesB)\n",
    "\n",
    "gmA = GaussianMixture(n_components=1, random_state=0).fit(trainA)\n",
    "gmB = GaussianMixture(n_components=1, random_state=0).fit(trainB)"
   ]
  },
  {
   "cell_type": "code",
   "execution_count": 8,
   "metadata": {},
   "outputs": [],
   "source": [
    "# если заюзать спектрограмму с вытащить mean:\n",
    "# librosa.display.specshow(gmA.means_.reshape((80, 13)), sr=8000, x_axis='time', cmap = 'bwr')\n",
    "# plt.show()"
   ]
  },
  {
   "cell_type": "code",
   "execution_count": 9,
   "metadata": {},
   "outputs": [],
   "source": [
    "# sns.distplot(trainA[:, 0], hist = False, kde = True, kde_kws = {'shade': True, 'linewidth': 3})\n",
    "# sns.distplot(trainB[:, 0], hist = False, kde = True, kde_kws = {'shade': True, 'linewidth': 3})\n",
    "# plt.show()"
   ]
  },
  {
   "cell_type": "code",
   "execution_count": null,
   "metadata": {},
   "outputs": [],
   "source": [
    "fps = 15\n",
    "duration = min( int((trainA.shape[1] - 2) / fps), int((trainB.shape[1] - 2) / fps))\n",
    "print(f'Duration: {duration}')\n",
    "\n",
    "# figsize - 1 == 72px -> 20 - 1440p | 15 - 1080p\n",
    "fig = plt.figure(figsize=(15, 15))\n",
    "ax = fig.add_subplot()\n",
    "plt.rcParams['axes.grid'] = False\n",
    "\n",
    "idx = 0\n",
    "def make_frame(t):\n",
    "\tglobal idx\n",
    "\tax.clear()\n",
    "\tsns.distplot(trainA[:, idx], hist = False, kde = True, kde_kws = {'shade': True, 'linewidth': 3}, ax=ax)\n",
    "\tsns.distplot(trainB[:, idx], hist = False, kde = True, kde_kws = {'shade': True, 'linewidth': 3}, ax=ax)\t\n",
    "\tnpimg = mplfig_to_npimage(fig)\n",
    "\tidx += 1\n",
    "\treturn npimg\n",
    "\n",
    "animation = VideoClip(make_frame, duration=duration)\n",
    "animation.write_videofile(f'final{3}.mp4', fps=fps, codec='mpeg4', audio=False, bitrate='6M', threads = 12, preset='ultrafast')\n",
    "plt.rcParams['axes.grid'] = True"
   ]
  },
  {
   "cell_type": "code",
   "execution_count": 71,
   "metadata": {},
   "outputs": [
    {
     "data": {
      "text/plain": [
       "(50, 300)"
      ]
     },
     "execution_count": 71,
     "metadata": {},
     "output_type": "execute_result"
    }
   ],
   "source": [
    "trainA.shape"
   ]
  },
  {
   "cell_type": "code",
   "execution_count": 72,
   "metadata": {},
   "outputs": [
    {
     "data": {
      "text/plain": [
       "(1, 300)"
      ]
     },
     "execution_count": 72,
     "metadata": {},
     "output_type": "execute_result"
    }
   ],
   "source": [
    "gmA.means_.shape"
   ]
  },
  {
   "cell_type": "code",
   "execution_count": 73,
   "metadata": {},
   "outputs": [
    {
     "data": {
      "text/plain": [
       "(1, 300, 300)"
      ]
     },
     "execution_count": 73,
     "metadata": {},
     "output_type": "execute_result"
    }
   ],
   "source": [
    "gmA.covariances_.shape"
   ]
  },
  {
   "cell_type": "code",
   "execution_count": 77,
   "metadata": {},
   "outputs": [
    {
     "name": "stdout",
     "output_type": "stream",
     "text": [
      "[48.99999782047337, 48.99999943828976, 49.00000008738696, 48.99999917182773, 49.00000059788302, 48.99999882538329, 48.999998361526075, 48.99999900081135, 49.00000157418045, 48.999997839939184, 48.99999852541305, 48.999996241620636, 48.99999960692771, 48.999994421277194, 49.00000214848941, 48.99999951672527, 49.0000033942305, 49.00000037740206, 48.99999899621736, 49.00000035120634, 49.00000002763097, 48.99999769606855, 48.99999921954636, 48.999999270798554, 49.00000054917095, 48.99999983293693, 49.000000477495604, 48.99999904322217, 48.99999816538012, 49.000000416431945, 49.00000009103097, 48.999999492458954, 48.999999195280246, 48.99999874072769, 48.99999851283165, 48.999999305669434, 48.999998437864775, 49.00000017636876, 48.9999986925589, 48.99999882439156, 48.99999946483164, 48.99999968964063, 48.99999885609024, 49.00000216370183, 48.999995619469374, 48.9999996950311, 48.99999962966246, 49.00000148577086, 49.00000017823186, 48.99999552012459]\n"
     ]
    }
   ],
   "source": [
    "rlistA = []\n",
    "for el in trainA:\n",
    "    x = el\n",
    "    means = np.squeeze(gmA.means_)\n",
    "    cov = np.squeeze(gmA.covariances_)\n",
    "\n",
    "    r = (x - means).T @ np.linalg.inv(cov) @ (x - means)\n",
    "    rlistA.append(r)\n",
    "print(rlistA)"
   ]
  },
  {
   "cell_type": "code",
   "execution_count": 79,
   "metadata": {},
   "outputs": [
    {
     "name": "stdout",
     "output_type": "stream",
     "text": [
      "[48.99999112083552, 48.99998775645151, 48.99998547818282, 48.99999636657663, 48.9999994127418, 48.99999340559522, 48.99999664340785, 48.99999393514898, 48.99999068707876, 48.99999386324066, 48.99999239272547, 49.00000191047043, 48.99998581142637, 48.99999887501631, 49.00000281158695, 48.999988676231744, 49.00002446398804, 48.99999912790719, 49.00000204880901, 48.999998957967776, 49.00000659845412, 48.999992959709125, 49.00000892526702, 49.00000261780019, 49.00000036620443, 49.000009635192406, 48.99999968955239, 49.000013408259385, 49.000025790150595, 48.99999568593511, 48.99999513768976, 49.00000296366326, 48.99999622423013, 48.99999513740771, 49.00000529305669, 48.99998988151392, 48.999980676072255, 48.99999460480169, 48.99999431296431, 49.00000465603132, 48.999995661205666, 48.999996386511135, 49.00000178207725, 49.00000454818184, 48.99999961660437, 49.000022588789925, 49.00000009785784, 49.00000240528911, 49.000010752614045, 48.999998086225894]\n"
     ]
    }
   ],
   "source": [
    "rlistB = []\n",
    "for el in trainB:\n",
    "    x = el\n",
    "    means = np.squeeze(gmB.means_)\n",
    "    cov = np.squeeze(gmB.covariances_)\n",
    "\n",
    "    r = (x - means).T @ np.linalg.inv(cov) @ (x - means)\n",
    "    rlistB.append(r)\n",
    "print(rlistB)"
   ]
  },
  {
   "cell_type": "code",
   "execution_count": 80,
   "metadata": {},
   "outputs": [
    {
     "data": {
      "image/png": "[encoded data removed]",
      "text/plain": [
       "<Figure size 600x400 with 1 Axes>"
      ]
     },
     "metadata": {
      "needs_background": "light"
     },
     "output_type": "display_data"
    }
   ],
   "source": [
    "plt.plot(range(len(rlistA)), rlistA)\n",
    "plt.show()"
   ]
  },
  {
   "cell_type": "code",
   "execution_count": 17,
   "metadata": {},
   "outputs": [
    {
     "data": {
      "text/plain": [
       "420"
      ]
     },
     "execution_count": 17,
     "metadata": {},
     "output_type": "execute_result"
    }
   ],
   "source": [
    "trainB.shape[1]"
   ]
  },
  {
   "cell_type": "code",
   "execution_count": null,
   "metadata": {},
   "outputs": [],
   "source": [
    "fig = plt.figure(figsize=(30, 30))\n",
    "ax = fig.add_subplot()\n",
    "sns.heatmap(np.squeeze(gmA.covariances_, axis=0), square=True, ax=ax)\n",
    "plt.show()"
   ]
  },
  {
   "cell_type": "code",
   "execution_count": 61,
   "metadata": {},
   "outputs": [
    {
     "name": "stdout",
     "output_type": "stream",
     "text": [
      "nx = 20, ny = 13\n",
      "0 19\n",
      "0 20\n",
      "1 19\n",
      "1 20\n",
      "2 19\n",
      "2 20\n",
      "3 19\n",
      "3 20\n",
      "4 19\n",
      "4 20\n",
      "5 19\n",
      "5 20\n",
      "6 19\n",
      "6 20\n",
      "7 19\n",
      "7 20\n",
      "8 19\n",
      "8 20\n",
      "9 19\n",
      "9 20\n",
      "10 19\n",
      "10 20\n",
      "11 19\n",
      "11 20\n",
      "12 19\n",
      "12 20\n",
      "13 19\n",
      "13 20\n",
      "14 19\n",
      "14 20\n",
      "15 19\n",
      "15 20\n",
      "16 19\n",
      "16 20\n",
      "17 19\n",
      "17 20\n",
      "18 19\n",
      "18 20\n",
      "19 19\n",
      "19 20\n",
      "20 19\n",
      "20 20\n",
      "21 19\n",
      "21 20\n",
      "22 19\n",
      "22 20\n",
      "23 19\n",
      "23 20\n",
      "24 19\n",
      "24 20\n",
      "25 19\n",
      "25 20\n",
      "26 19\n",
      "26 20\n",
      "27 19\n",
      "27 20\n",
      "28 19\n",
      "28 20\n",
      "29 19\n",
      "29 20\n",
      "30 19\n",
      "30 20\n",
      "31 19\n",
      "31 20\n",
      "32 19\n",
      "32 20\n",
      "33 19\n",
      "33 20\n",
      "34 19\n",
      "34 20\n",
      "35 19\n",
      "35 20\n",
      "36 19\n",
      "36 20\n",
      "37 19\n",
      "37 20\n",
      "38 19\n",
      "38 20\n",
      "39 19\n",
      "39 20\n",
      "40 19\n",
      "40 20\n",
      "41 19\n",
      "41 20\n",
      "42 19\n",
      "42 20\n",
      "43 19\n",
      "43 20\n",
      "44 19\n",
      "44 20\n",
      "45 19\n",
      "45 20\n",
      "46 19\n",
      "46 20\n",
      "47 19\n",
      "47 20\n",
      "48 19\n",
      "48 20\n",
      "49 19\n",
      "49 20\n"
     ]
    }
   ],
   "source": [
    "fsdd = FSDD('../Datasets/FSDD/recordings')\n",
    "filesA, filesB = fsdd.getFilesForDigit(0, spkA=0, spkB=3)\n",
    "\n",
    "train2, nx, ny = getTrainSet([*filesA, *filesB])\n",
    "\n",
    "gm2 = GaussianMixture(n_components=2, random_state=0).fit(train2)\n",
    "\n",
    "for i in range(len(filesA)):\n",
    "\tfor j in range(len(filesB)):\n",
    "\t\ttest2 = [train2[i], train2[-j-1]]\n",
    "\t\ta, b = gm2.predict(test2)\n",
    "\t\tif a == b:\n",
    "\t\t\tprint(i, j)"
   ]
  },
  {
   "cell_type": "code",
   "execution_count": 63,
   "metadata": {},
   "outputs": [
    {
     "data": {
      "text/plain": [
       "(2, 260, 260)"
      ]
     },
     "execution_count": 63,
     "metadata": {},
     "output_type": "execute_result"
    }
   ],
   "source": [
    "gm2.covariances_.shape"
   ]
  },
  {
   "cell_type": "code",
   "execution_count": null,
   "metadata": {},
   "outputs": [],
   "source": [
    "# fig = plt.figure(figsize=(30, 30))\n",
    "# ax = fig.add_subplot()\n",
    "# sns.heatmap(gm2.covariances_[0], square=True, ax=ax)\n",
    "# plt.show()"
   ]
  },
  {
   "cell_type": "code",
   "execution_count": 97,
   "metadata": {},
   "outputs": [
    {
     "name": "stdout",
     "output_type": "stream",
     "text": [
      "['jackson', 'george', 'yweweler', 'theo', 'nicolas', 'lucas']\n",
      "theo\n",
      "lucas\n"
     ]
    }
   ],
   "source": [
    "fsdd = FSDD('../Datasets/FSDD/recordings')\n",
    "print(fsdd.speakers)\n",
    "# spkA = 1\n",
    "# spkB = 3\n",
    "filesA, filesB = fsdd.getFilesForDigit(0, spkA=spkA, spkB=spkB)\n",
    "print(fsdd.speakers[spkA])\n",
    "print(fsdd.speakers[spkB])\n",
    "\n",
    "mfccsA = getFeatureList(filesA)\n",
    "mfccsB = getFeatureList(filesB)\n",
    "mfccsA, mfccsB = trimFeatures([mfccsA, mfccsB])\n",
    "# shapesA = {a.shape for a in mfccsA}\n",
    "# shapesB = {b.shape for b in mfccsB}\n",
    "# print(shapesA)\n",
    "# print(shapesB)"
   ]
  },
  {
   "cell_type": "code",
   "execution_count": 98,
   "metadata": {},
   "outputs": [
    {
     "name": "stdout",
     "output_type": "stream",
     "text": [
      "[1 1 1 1 1 0 1 1 1 1 1 1 1 1 1 1 1 1 1 1 1 1 1 1 1 0 0 0 0 0 0 0 0 0 0 0 0\n",
      " 0 0 0 0 0 0 0 0 0 0 0 0 0]\n"
     ]
    }
   ],
   "source": [
    "# train test split\n",
    "testsize = 25\n",
    "\n",
    "train3, nx, ny = getLinearFeatureList([*mfccsA[:-testsize], *mfccsB[:-testsize]])\n",
    "test3, nx, ny = getLinearFeatureList([*mfccsA[-testsize:], *mfccsB[-testsize:]])\n",
    "\n",
    "gm3 = GaussianMixture(n_components=2, random_state=0).fit(train3)\n",
    "\n",
    "Y = gm3.predict(test3)\n",
    "print(Y)"
   ]
  },
  {
   "cell_type": "code",
   "execution_count": 99,
   "metadata": {},
   "outputs": [
    {
     "name": "stdout",
     "output_type": "stream",
     "text": [
      "20 13\n"
     ]
    }
   ],
   "source": [
    "# train test split\n",
    "testsize = 25\n",
    "\n",
    "train4A, nx, ny = getLinearFeatureList(mfccsA[:-testsize])\n",
    "train4B, nx, ny = getLinearFeatureList(mfccsB[:-testsize])\n",
    "\n",
    "test4A, nx, ny = getLinearFeatureList(mfccsA[-testsize:])\n",
    "test4B, nx, ny = getLinearFeatureList(mfccsB[-testsize:])\n",
    "print(nx, ny)\n",
    "\n",
    "gm4A = GaussianMixture(n_components=1, random_state=0).fit(train4A)\n",
    "gm4B = GaussianMixture(n_components=1, random_state=0).fit(train4B)\n"
   ]
  },
  {
   "cell_type": "code",
   "execution_count": 101,
   "metadata": {},
   "outputs": [
    {
     "name": "stdout",
     "output_type": "stream",
     "text": [
      "[5181459474.774338, 7279093984.080101, 8525880470.674967, 11875845924.36967, 46246772652.73896, 52575838457.94266, 5515756830.801156, 46791939340.200584, 11591386796.137896, 7103460408.926846, 19908997315.663116, 5878108007.277162, 21585309954.436565, 6652950094.445551, 9731726209.53465, 8084780483.288502, 6480303543.180168, 7569555643.444374, 7773383536.139617, 6281494176.93411, 4181744584.46973, 4127077080.451992, 8307342544.934972, 5136594924.186508, 11964443953.528088]\n",
      "52575838457.94266\n"
     ]
    }
   ],
   "source": [
    "rlistA = []\n",
    "for el in test4A:\n",
    "    x = el\n",
    "    means = np.squeeze(gm4A.means_)\n",
    "    cov = np.squeeze(gm4A.covariances_)\n",
    "\n",
    "    r = (x - means).T @ np.linalg.inv(cov) @ (x - means)\n",
    "    rlistA.append(r)\n",
    "print(rlistA)\n",
    "print(max(rlistA))"
   ]
  },
  {
   "cell_type": "code",
   "execution_count": 102,
   "metadata": {},
   "outputs": [
    {
     "name": "stdout",
     "output_type": "stream",
     "text": [
      "[175305162392.47067, 142646984669.0028, 95242065723.45854, 144559031878.00427, 93007132987.03311, 171994961588.51358, 113810317870.01869, 109183447649.18468, 155928722927.59265, 120953587178.14449, 114340999758.24475, 164874417723.60126, 108157469195.4814, 94464287999.63525, 101647651108.08784, 183762515966.26953, 143098818755.1935, 126619427297.32848, 132533763295.26472, 148245634859.93484, 133727689315.70132, 104236766921.86281, 124695021179.3037, 139918977476.53128, 124569664272.86519]\n",
      "93007132987.03311\n"
     ]
    }
   ],
   "source": [
    "rlistB = []\n",
    "for el in train4B:\n",
    "    x = el\n",
    "    means = np.squeeze(gm4A.means_)\n",
    "    cov = np.squeeze(gm4A.covariances_)\n",
    "\n",
    "    r = (x - means).T @ np.linalg.inv(cov) @ (x - means)\n",
    "    rlistB.append(r)\n",
    "print(rlistB)\n",
    "print(min(rlistB))"
   ]
  },
  {
   "cell_type": "code",
   "execution_count": 24,
   "metadata": {},
   "outputs": [
    {
     "data": {
      "image/png": "[encoded data removed]",
      "text/plain": [
       "<Figure size 600x400 with 1 Axes>"
      ]
     },
     "metadata": {
      "needs_background": "light"
     },
     "output_type": "display_data"
    }
   ],
   "source": [
    "plt.plot(range(len(rlist)), rlist)\n",
    "plt.show()"
   ]
  },
  {
   "cell_type": "code",
   "execution_count": null,
   "metadata": {},
   "outputs": [],
   "source": []
  },
  {
   "cell_type": "code",
   "execution_count": 38,
   "metadata": {},
   "outputs": [],
   "source": [
    "sample4a = gm4A.sample(1)[0].reshape((nx, ny))\n",
    "sample4b = gm4B.sample(1)[0].reshape((nx, ny))"
   ]
  },
  {
   "cell_type": "code",
   "execution_count": 39,
   "metadata": {},
   "outputs": [
    {
     "data": {
      "image/png": "[encoded data removed]",
      "text/plain": [
       "<Figure size 1500x500 with 4 Axes>"
      ]
     },
     "metadata": {
      "needs_background": "light"
     },
     "output_type": "display_data"
    }
   ],
   "source": [
    "fig, ax = compareFeatures(sample4a, 8000, sample4b, 8000, fsdd.speakers[spkA], fsdd.speakers[spkB])\n",
    "plt.show()"
   ]
  },
  {
   "cell_type": "code",
   "execution_count": 40,
   "metadata": {},
   "outputs": [
    {
     "name": "stdout",
     "output_type": "stream",
     "text": [
      "Maximum distanse to center of valid:\n",
      "111.51540561452933\n",
      "92.82042286008391\n",
      "Minimum distanse to center of another:\n",
      "482.17686680784635\n",
      "576.9207011601779\n"
     ]
    }
   ],
   "source": [
    "maxDistSameA = max([np.mean((gm4A.means_ - ta)**2) for ta in test4A])\n",
    "maxDistSameB = max([np.mean((gm4B.means_ - tb)**2) for tb in test4B])\n",
    "print(f'Maximum distanse to center of valid:')\n",
    "print(maxDistSameA)\n",
    "print(maxDistSameB)\n",
    "minDistDifA = min([np.mean((gm4A.means_ - tb)**2) for tb in test4B])\n",
    "minDistDifB = min([np.mean((gm4B.means_ - ta)**2) for ta in test4A])\n",
    "print(f'Minimum distanse to center of another:')\n",
    "print(minDistDifA)\n",
    "print(minDistDifB)"
   ]
  },
  {
   "cell_type": "code",
   "execution_count": 41,
   "metadata": {},
   "outputs": [
    {
     "name": "stdout",
     "output_type": "stream",
     "text": [
      "Maximum cos dist to center of valid:\n",
      "[[0.00662717]]\n",
      "[[0.0042129]]\n",
      "Minimum cos dist to center of another:\n",
      "[[0.02492578]]\n",
      "[[0.03327519]]\n"
     ]
    }
   ],
   "source": [
    "cosDist = sklearn.metrics.pairwise.cosine_distances\n",
    "maxDistSameA = max([cosDist(gm4A.means_.reshape(1, -1), ta.reshape(1, -1)) for ta in test4A])\n",
    "maxDistSameB = max([cosDist(gm4B.means_.reshape(1, -1), tb.reshape(1, -1)) for tb in test4B])\n",
    "print(f'Maximum cos dist to center of valid:')\n",
    "print(maxDistSameA)\n",
    "print(maxDistSameB)\n",
    "minDistDifA = min([cosDist(gm4A.means_.reshape(1, -1), tb.reshape(1, -1)) for tb in test4B])\n",
    "minDistDifB = min([cosDist(gm4B.means_.reshape(1, -1), ta.reshape(1, -1)) for ta in test4A])\n",
    "print(f'Minimum cos dist to center of another:')\n",
    "print(minDistDifA)\n",
    "print(minDistDifB)"
   ]
  },
  {
   "cell_type": "code",
   "execution_count": 42,
   "metadata": {},
   "outputs": [
    {
     "name": "stdout",
     "output_type": "stream",
     "text": [
      "Maximum dist to center of valid:\n",
      "[[163.59614099]]\n",
      "[[149.25448565]]\n",
      "Minimum dist to center of another:\n",
      "[[340.18002298]]\n",
      "[[372.10343761]]\n"
     ]
    }
   ],
   "source": [
    "# dist = sklearn.metrics.pairwise.manhattan_distances\n",
    "dist = sklearn.metrics.pairwise.euclidean_distances\n",
    "maxDistSameA = max([dist(gm4A.means_.reshape(1, -1), ta.reshape(1, -1)) for ta in test4A])\n",
    "maxDistSameB = max([dist(gm4B.means_.reshape(1, -1), tb.reshape(1, -1)) for tb in test4B])\n",
    "print(f'Maximum dist to center of valid:')\n",
    "print(maxDistSameA)\n",
    "print(maxDistSameB)\n",
    "minDistDifA = min([dist(gm4A.means_.reshape(1, -1), tb.reshape(1, -1)) for tb in test4B])\n",
    "minDistDifB = min([dist(gm4B.means_.reshape(1, -1), ta.reshape(1, -1)) for ta in test4A])\n",
    "print(f'Minimum dist to center of another:')\n",
    "print(minDistDifA)\n",
    "print(minDistDifB)"
   ]
  },
  {
   "cell_type": "code",
   "execution_count": 56,
   "metadata": {},
   "outputs": [
    {
     "name": "stdout",
     "output_type": "stream",
     "text": [
      "Maximum cos dist to center of valid:\n",
      "[0.0016448838384519604, 0.0010362174344308306, 0.0016009652352636516, 0.0023122358419336297, 0.004212900729343327]\n",
      "[0.004255939838346934, 0.00662717304942928, 0.0037407003183806964, 0.0063756092709850165, 0.005315440915569236]\n",
      "Minimum cos dist to center of another:\n",
      "[0.03533937016052424, 0.03619387783986794, 0.033275186655305045, 0.03923102083968444, 0.03460776254390974]\n",
      "[0.028893752586499732, 0.027420037550162313, 0.027270047049023916, 0.02691663764806551, 0.024925782437525412]\n"
     ]
    }
   ],
   "source": [
    "cosDist = sklearn.metrics.pairwise.cosine_distances\n",
    "maxDistSameA = [cosDist(gm4A.means_.reshape(1, -1), ta.reshape(1, -1)).reshape(1)[0] for ta in test4A]\n",
    "maxDistSameB = [cosDist(gm4B.means_.reshape(1, -1), tb.reshape(1, -1)).reshape(1)[0] for tb in test4B]\n",
    "print(f'Maximum cos dist to center of valid:')\n",
    "print(maxDistSameA)\n",
    "print(maxDistSameB)\n",
    "minDistDifA = [cosDist(gm4A.means_.reshape(1, -1), tb.reshape(1, -1)).reshape(1)[0] for tb in test4B]\n",
    "minDistDifB = [cosDist(gm4B.means_.reshape(1, -1), ta.reshape(1, -1)).reshape(1)[0] for ta in test4A]\n",
    "print(f'Minimum cos dist to center of another:')\n",
    "print(minDistDifA)\n",
    "print(minDistDifB)"
   ]
  },
  {
   "cell_type": "code",
   "execution_count": 57,
   "metadata": {},
   "outputs": [
    {
     "data": {
      "text/plain": [
       "1007.9309487252091"
      ]
     },
     "execution_count": 57,
     "metadata": {},
     "output_type": "execute_result"
    }
   ],
   "source": [
    "gm4A.lower_bound_"
   ]
  },
  {
   "cell_type": "code",
   "execution_count": 58,
   "metadata": {},
   "outputs": [
    {
     "data": {
      "text/plain": [
       "array([-9.77489597e+08, -6.22413467e+08, -9.77647703e+08, -1.36463387e+09,\n",
       "       -1.06029442e+09])"
      ]
     },
     "execution_count": 58,
     "metadata": {},
     "output_type": "execute_result"
    }
   ],
   "source": [
    "gm4A.score_samples(test4A)"
   ]
  },
  {
   "cell_type": "code",
   "execution_count": 59,
   "metadata": {},
   "outputs": [
    {
     "data": {
      "text/plain": [
       "array([-3.34768731e+10, -3.56301715e+10, -3.34658385e+10, -3.43297538e+10,\n",
       "       -3.34956103e+10])"
      ]
     },
     "execution_count": 59,
     "metadata": {},
     "output_type": "execute_result"
    }
   ],
   "source": [
    "gm4A.score_samples(test4B)"
   ]
  }
 ],
 "metadata": {
  "kernelspec": {
   "display_name": "Python 3.7.5 64-bit",
   "language": "python",
   "name": "python3"
  },
  "language_info": {
   "codemirror_mode": {
    "name": "ipython",
    "version": 3
   },
   "file_extension": ".py",
   "mimetype": "text/x-python",
   "name": "python",
   "nbconvert_exporter": "python",
   "pygments_lexer": "ipython3",
   "version": "3.7.5"
  },
  "orig_nbformat": 4,
  "vscode": {
   "interpreter": {
    "hash": "31f2aee4e71d21fbe5cf8b01ff0e069b9275f58929596ceb00d14d90e3e16cd6"
   }
  }
 },
 "nbformat": 4,
 "nbformat_minor": 2
}
